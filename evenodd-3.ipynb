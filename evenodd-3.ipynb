{
 "cells": [
  {
   "cell_type": "code",
   "execution_count": 1,
   "id": "6355a4b9-8f65-4c1c-b894-be4a5f2f3d9d",
   "metadata": {},
   "outputs": [
    {
     "name": "stdout",
     "output_type": "stream",
     "text": [
      "'0' is even.\n",
      "'1' is odd.\n",
      "'2' is even.\n",
      "'3' is odd.\n",
      "'4' is even.\n",
      "'5' is odd.\n",
      "'6' is even.\n",
      "'7' is odd.\n",
      "'8' is even.\n",
      "'9' is odd.\n"
     ]
    }
   ],
   "source": [
    "import numpy as np\n",
    "\n",
    "class Perceptron:\n",
    "    def __init__(self, input_size, learning_rate=0.1):\n",
    "        # Initialize weights and bias\n",
    "        self.weights = np.zeros(input_size)\n",
    "        self.bias = 0\n",
    "        self.learning_rate = learning_rate\n",
    "\n",
    "    def predict(self, inputs):\n",
    "        # Calculate the weighted sum\n",
    "        weighted_sum = np.dot(self.weights, inputs) + self.bias\n",
    "        # Return 1 if sum is greater than or equal to 0, otherwise 0\n",
    "        return 1 if weighted_sum >= 0 else 0\n",
    "\n",
    "    def train(self, inputs, label):\n",
    "        # Get prediction\n",
    "        prediction = self.predict(inputs)\n",
    "        # Calculate error\n",
    "        error = label - prediction\n",
    "        # Update weights and bias based on error\n",
    "        self.weights += self.learning_rate * error * inputs\n",
    "        self.bias += self.learning_rate * error\n",
    "\n",
    "# Training data\n",
    "training_data = {\n",
    "    \"48\": 1, \"49\": 0, \"50\": 1, \"51\": 0, \"52\": 1,\n",
    "    \"53\": 0, \"54\": 1, \"55\": 0, \"56\": 1, \"57\": 0\n",
    "}\n",
    "\n",
    "# Initialize perceptron with 7 input nodes\n",
    "perceptron = Perceptron(input_size=7)\n",
    "\n",
    "# Train perceptron with training data\n",
    "for ascii_code, label in training_data.items():\n",
    "    inputs = np.array([int(b) for b in bin(int(ascii_code))[2:].zfill(7)])\n",
    "    perceptron.train(inputs, label)\n",
    "\n",
    "# Testing data\n",
    "test_data = {\n",
    "    \"48\": \"even\", \"49\": \"odd\", \"50\": \"even\", \"51\": \"odd\",\n",
    "    \"52\": \"even\", \"53\": \"odd\", \"54\": \"even\", \"55\": \"odd\",\n",
    "    \"56\": \"even\", \"57\": \"odd\"\n",
    "}\n",
    "\n",
    "# Test perceptron with test data\n",
    "for ascii_code, expected_output in test_data.items():\n",
    "    inputs = np.array([int(b) for b in bin(int(ascii_code))[2:].zfill(7)])\n",
    "    output = perceptron.predict(inputs)\n",
    "    # Print results\n",
    "    print(f\"'{chr(int(ascii_code))}' is {'even' if output == 1 else 'odd'}.\")\n"
   ]
  },
  {
   "cell_type": "code",
   "execution_count": null,
   "id": "a55ef6e6-c57e-4591-a9d0-66719da42b50",
   "metadata": {},
   "outputs": [],
   "source": []
  }
 ],
 "metadata": {
  "kernelspec": {
   "display_name": "Python 3 (ipykernel)",
   "language": "python",
   "name": "python3"
  },
  "language_info": {
   "codemirror_mode": {
    "name": "ipython",
    "version": 3
   },
   "file_extension": ".py",
   "mimetype": "text/x-python",
   "name": "python",
   "nbconvert_exporter": "python",
   "pygments_lexer": "ipython3",
   "version": "3.11.7"
  }
 },
 "nbformat": 4,
 "nbformat_minor": 5
}
