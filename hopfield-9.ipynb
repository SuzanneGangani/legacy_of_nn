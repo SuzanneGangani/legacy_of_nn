{
 "cells": [
  {
   "cell_type": "code",
   "execution_count": 2,
   "id": "208a4986-6059-4d1b-8582-549cc451ab9a",
   "metadata": {},
   "outputs": [
    {
     "name": "stdout",
     "output_type": "stream",
     "text": [
      "Stored Patterns:\n",
      "Pattern 1: [-1  1  1  1]\n",
      "Pattern 2: [ 1 -1  1 -1]\n",
      "Pattern 3: [-1 -1  1  1]\n",
      "Pattern 4: [-1  1 -1 -1]\n",
      "\n",
      "Recalled Patterns:\n",
      "Input Pattern: [-1  1  1  1], Recalled Pattern: [-1.  1.  1.  1.]\n",
      "Input Pattern: [ 1  1 -1 -1], Recalled Pattern: [ 1.  1. -1. -1.]\n",
      "Input Pattern: [ 1 -1 -1 -1], Recalled Pattern: [ 1. -1. -1. -1.]\n"
     ]
    }
   ],
   "source": [
    "import numpy as np\n",
    "\n",
    "class HopfieldNetwork:\n",
    "    def __init__(self, num_neurons):\n",
    "        self.num_neurons = num_neurons\n",
    "        self.weights = np.zeros((num_neurons, num_neurons))\n",
    "\n",
    "    def train(self, patterns):\n",
    "        for pattern in patterns:\n",
    "            self.weights += np.outer(pattern, pattern)\n",
    "            np.fill_diagonal(self.weights, 0)\n",
    "\n",
    "    def recall(self, pattern, max_iterations=100):\n",
    "        iterations = 0\n",
    "        while iterations < max_iterations:\n",
    "            output = np.sign(np.dot(pattern, self.weights))\n",
    "            if np.array_equal(pattern, output):\n",
    "                break\n",
    "            pattern = output\n",
    "            iterations += 1\n",
    "        return pattern\n",
    "\n",
    "# Example usage\n",
    "patterns = np.array([\n",
    "    [-1, 1, 1, 1],\n",
    "    [1, -1, 1, -1],\n",
    "    [-1, -1, 1, 1],\n",
    "    [-1, 1, -1, -1]\n",
    "])\n",
    "\n",
    "hopfield = HopfieldNetwork(num_neurons=4)\n",
    "hopfield.train(patterns)\n",
    "\n",
    "test_patterns = np.array([\n",
    "    [-1, 1, 1, 1],\n",
    "    [1, 1, -1, -1],\n",
    "    [1, -1, -1, -1]\n",
    "])\n",
    "\n",
    "print(\"Stored Patterns:\")\n",
    "for i, pattern in enumerate(patterns):\n",
    "    print(f\"Pattern {i + 1}: {pattern}\")\n",
    "\n",
    "print(\"\\nRecalled Patterns:\")\n",
    "for pattern in test_patterns:\n",
    "    recalled_pattern = hopfield.recall(pattern)\n",
    "    print(f\"Input Pattern: {pattern}, Recalled Pattern: {recalled_pattern.flatten()}\")\n"
   ]
  },
  {
   "cell_type": "code",
   "execution_count": null,
   "id": "d1ebdea5-1a39-4e25-94ad-9e8ed17b507e",
   "metadata": {},
   "outputs": [],
   "source": []
  }
 ],
 "metadata": {
  "kernelspec": {
   "display_name": "Python 3 (ipykernel)",
   "language": "python",
   "name": "python3"
  },
  "language_info": {
   "codemirror_mode": {
    "name": "ipython",
    "version": 3
   },
   "file_extension": ".py",
   "mimetype": "text/x-python",
   "name": "python",
   "nbconvert_exporter": "python",
   "pygments_lexer": "ipython3",
   "version": "3.11.7"
  }
 },
 "nbformat": 4,
 "nbformat_minor": 5
}
