{
 "cells": [
  {
   "cell_type": "code",
   "execution_count": null,
   "id": "3a5d7a87",
   "metadata": {},
   "outputs": [],
   "source": []
  },
  {
   "cell_type": "code",
   "execution_count": 5,
   "id": "ad1d6896",
   "metadata": {},
   "outputs": [
    {
     "name": "stdout",
     "output_type": "stream",
     "text": [
      "input table:\n",
      "[[0 0]\n",
      " [0 1]\n",
      " [1 0]\n",
      " [1 1]]\n",
      "Activation: 0\n",
      "Activation: 0\n",
      "Activation: 1\n",
      "Activation: 0\n"
     ]
    }
   ],
   "source": [
    "# importing libraries\n",
    "import numpy as np\n",
    "\n",
    "# matrix of inputs\n",
    "input_table = np.array([\n",
    "    [0, 0],  # both no\n",
    "    [0, 1],  # one no, one yes\n",
    "    [1, 0],  # one yes, one no\n",
    "    [1, 1]   # both yes\n",
    "])\n",
    "\n",
    "# Define the weights after defining the input table\n",
    "weights = np.array([1, -1])\n",
    "\n",
    "# Compute dot products after defining the weights and input table\n",
    "dot_products = input_table @ weights\n",
    "\n",
    "print(f'input table:\\n{input_table}')\n",
    "\n",
    "# function of checking threshold value\n",
    "def linear_threshold_gate(dot, T):\n",
    "    '''Returns the binary threshold output'''\n",
    "    if dot >= T:\n",
    "        return 1\n",
    "    else:\n",
    "        return 0\n",
    "\n",
    "T = 1\n",
    "\n",
    "# Iterate over dot products and calculate activations\n",
    "for i in range(0, 4):\n",
    "    activation = linear_threshold_gate(dot_products[i], T)\n",
    "    print(f'Activation: {activation}')\n"
   ]
  },
  {
   "cell_type": "code",
   "execution_count": 6,
   "id": "766ec3bc",
   "metadata": {},
   "outputs": [
    {
     "name": "stdout",
     "output_type": "stream",
     "text": [
      "input table:\n",
      "[[0 0]\n",
      " [0 1]\n",
      " [1 0]\n",
      " [1 1]]\n",
      "Activation: 0\n",
      "Activation: 1\n",
      "Activation: 1\n",
      "Activation: 1\n"
     ]
    }
   ],
   "source": [
    "# importing libraries\n",
    "import numpy as np\n",
    "\n",
    "# matrix of inputs\n",
    "input_table = np.array([\n",
    "    [0, 0],  # both no\n",
    "    [0, 1],  # one no, one yes\n",
    "    [1, 0],  # one yes, one no\n",
    "    [1, 1]   # both yes\n",
    "])\n",
    "\n",
    "# Define the weights after defining the input table\n",
    "weights = np.array([1, 1])\n",
    "\n",
    "# Compute dot products after defining the weights and input table\n",
    "dot_products = input_table @ weights\n",
    "\n",
    "print(f'input table:\\n{input_table}')\n",
    "\n",
    "# function of checking threshold value\n",
    "def linear_threshold_gate(dot, T):\n",
    "    '''Returns the binary threshold output'''\n",
    "    if dot >= T:\n",
    "        return 1\n",
    "    else:\n",
    "        return 0\n",
    "\n",
    "T = 1\n",
    "\n",
    "# Iterate over dot products and calculate activations\n",
    "for i in range(0, 4):\n",
    "    activation = linear_threshold_gate(dot_products[i], T)\n",
    "    print(f'Activation: {activation}')\n"
   ]
  },
  {
   "cell_type": "code",
   "execution_count": null,
   "id": "e0f56d11",
   "metadata": {},
   "outputs": [],
   "source": []
  }
 ],
 "metadata": {
  "kernelspec": {
   "display_name": "Python 3 (ipykernel)",
   "language": "python",
   "name": "python3"
  },
  "language_info": {
   "codemirror_mode": {
    "name": "ipython",
    "version": 3
   },
   "file_extension": ".py",
   "mimetype": "text/x-python",
   "name": "python",
   "nbconvert_exporter": "python",
   "pygments_lexer": "ipython3",
   "version": "3.11.5"
  }
 },
 "nbformat": 4,
 "nbformat_minor": 5
}
