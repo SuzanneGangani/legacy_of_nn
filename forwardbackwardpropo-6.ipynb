{
 "cells": [
  {
   "cell_type": "code",
   "execution_count": 2,
   "id": "867f604f-bba8-4496-9da5-7420c9c73b85",
   "metadata": {},
   "outputs": [
    {
     "name": "stdout",
     "output_type": "stream",
     "text": [
      "Input: [0 0 0]\n",
      "Output: [0.93239775]\n",
      "Input: [1 0 0]\n",
      "Output: [0.9934115]\n"
     ]
    }
   ],
   "source": [
    "import numpy as np\n",
    "\n",
    "def sigmoid(x):\n",
    "    return 1 / (1 + np.exp(-x))\n",
    "\n",
    "def sigmoid_derivative(x):\n",
    "    return x * (1 - x)\n",
    "\n",
    "class NeuralNetwork:\n",
    "    def __init__(self, x, y):\n",
    "        self.input = x\n",
    "        self.output = y\n",
    "        self.hidden_size = 4\n",
    "        self.weights1 = np.random.randn(self.input.shape[1], self.hidden_size)\n",
    "        self.weights2 = np.random.randn(self.hidden_size, 1)\n",
    "\n",
    "    def feedforward(self):\n",
    "        self.hidden = sigmoid(np.dot(self.input, self.weights1))\n",
    "        self.predicted_output = sigmoid(np.dot(self.hidden, self.weights2))\n",
    "\n",
    "    def backpropagate(self):\n",
    "        output_error = self.output - self.predicted_output\n",
    "        d_predicted_output = output_error * sigmoid_derivative(self.predicted_output)\n",
    "        hidden_error = d_predicted_output.dot(self.weights2.T)\n",
    "        d_hidden = hidden_error * sigmoid_derivative(self.hidden)\n",
    "        self.weights1 += self.input.T.dot(d_hidden)\n",
    "        self.weights2 += self.hidden.T.dot(d_predicted_output)\n",
    "\n",
    "    def train(self, epochs):\n",
    "        for _ in range(epochs):\n",
    "            self.feedforward()\n",
    "            self.backpropagate()\n",
    "\n",
    "    def predict(self, x):\n",
    "        hidden = sigmoid(np.dot(x, self.weights1))\n",
    "        predicted_output = sigmoid(np.dot(hidden, self.weights2))\n",
    "        return predicted_output\n",
    "\n",
    "X = np.array([[0, 0, 1], [0, 1, 1], [1, 0, 1], [1, 1, 1]])\n",
    "y = np.array([[0], [1], [1], [0]])\n",
    "\n",
    "nn = NeuralNetwork(X, y)\n",
    "nn.train(10000)\n",
    "\n",
    "x_test = np.array([[0, 0, 0], [1, 0, 0]])\n",
    "for x in x_test:\n",
    "    print(\"Input:\", x)\n",
    "    print(\"Output:\", nn.predict(x))\n"
   ]
  },
  {
   "cell_type": "code",
   "execution_count": null,
   "id": "0e83b36b-9e55-450d-a2ba-9ee78d98ae6c",
   "metadata": {},
   "outputs": [],
   "source": []
  }
 ],
 "metadata": {
  "kernelspec": {
   "display_name": "Python 3 (ipykernel)",
   "language": "python",
   "name": "python3"
  },
  "language_info": {
   "codemirror_mode": {
    "name": "ipython",
    "version": 3
   },
   "file_extension": ".py",
   "mimetype": "text/x-python",
   "name": "python",
   "nbconvert_exporter": "python",
   "pygments_lexer": "ipython3",
   "version": "3.11.7"
  }
 },
 "nbformat": 4,
 "nbformat_minor": 5
}
