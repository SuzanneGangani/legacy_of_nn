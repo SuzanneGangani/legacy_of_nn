{
 "cells": [
  {
   "cell_type": "code",
   "execution_count": 1,
   "id": "3642dbdf-c6bc-499b-a7c6-0d23fbd0a693",
   "metadata": {},
   "outputs": [],
   "source": [
    "def mcculloch_pitts(input1, input2):\n",
    "    # Define the weights and threshold\n",
    "    weights = [1, 1]\n",
    "    threshold = 1\n",
    "\n",
    "    # Compute the weighted sum\n",
    "    weighted_sum = input1 * weights[0] + input2 * weights[1]\n",
    "\n",
    "    # Apply the threshold function\n",
    "    if weighted_sum >= threshold:\n",
    "        return 1\n",
    "    else:\n",
    "        return 0"
   ]
  },
  {
   "cell_type": "code",
   "execution_count": 2,
   "id": "9602f005-a955-4e95-a171-22d9bb8c6d7c",
   "metadata": {},
   "outputs": [
    {
     "name": "stdout",
     "output_type": "stream",
     "text": [
      "0\n",
      "1\n",
      "1\n",
      "1\n"
     ]
    }
   ],
   "source": [
    "# Test the function with different inputs\n",
    "print(mcculloch_pitts(0, 0))  \n",
    "print(mcculloch_pitts(1, 0))  \n",
    "print(mcculloch_pitts(0, 1))  \n",
    "print(mcculloch_pitts(1, 1))  "
   ]
  },
  {
   "cell_type": "code",
   "execution_count": null,
   "id": "8c712c95-314f-4b82-9937-8a407f939fae",
   "metadata": {},
   "outputs": [],
   "source": []
  }
 ],
 "metadata": {
  "kernelspec": {
   "display_name": "Python 3 (ipykernel)",
   "language": "python",
   "name": "python3"
  },
  "language_info": {
   "codemirror_mode": {
    "name": "ipython",
    "version": 3
   },
   "file_extension": ".py",
   "mimetype": "text/x-python",
   "name": "python",
   "nbconvert_exporter": "python",
   "pygments_lexer": "ipython3",
   "version": "3.11.7"
  }
 },
 "nbformat": 4,
 "nbformat_minor": 5
}
