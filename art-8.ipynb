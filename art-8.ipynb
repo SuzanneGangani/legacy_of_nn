{
 "cells": [
  {
   "cell_type": "code",
   "execution_count": 2,
   "id": "be6b6b54-37b5-433d-8ad7-8ba8ea4abea4",
   "metadata": {},
   "outputs": [
    {
     "name": "stdout",
     "output_type": "stream",
     "text": [
      "Trained pattern [1 0 0 0 1] classified as 0.9999999999999998\n",
      "Trained pattern [0 1 0 0 1] classified as 1.2071067811865475\n",
      "Trained pattern [0 0 1 0 1] classified as 1.914213562373095\n",
      "Recalled pattern [1 1 0 0 1] classified as 3.7032479268758554\n"
     ]
    }
   ],
   "source": [
    "import numpy as np\n",
    "\n",
    "class ARTNetwork:\n",
    "    def __init__(self, num_input, rho, vigilance):\n",
    "        self.num_input = num_input\n",
    "        self.rho = rho\n",
    "        self.vigilance = vigilance\n",
    "        self.weights = np.zeros((num_input,))\n",
    "\n",
    "    def train(self, input_pattern):\n",
    "        output = self._classify(input_pattern)\n",
    "        if output is not None:\n",
    "            self._update_weights(input_pattern)\n",
    "            return output\n",
    "        else:\n",
    "            self._adjust_weights(input_pattern)\n",
    "            return self.train(input_pattern)\n",
    "\n",
    "    def _classify(self, input_pattern):\n",
    "        input_norm = input_pattern / np.linalg.norm(input_pattern)\n",
    "        output = np.dot(self.weights, input_norm)\n",
    "        return output if output >= self.rho else None\n",
    "\n",
    "    def _update_weights(self, input_pattern):\n",
    "        self.weights += input_pattern\n",
    "\n",
    "    def _adjust_weights(self, input_pattern):\n",
    "        input_norm = input_pattern / np.linalg.norm(input_pattern)\n",
    "        self.weights = np.maximum(self.weights, input_norm)\n",
    "\n",
    "    def recall(self, input_pattern):\n",
    "        return self._classify(input_pattern)\n",
    "\n",
    "# Example usage\n",
    "num_input = 5\n",
    "rho = 0.5\n",
    "vigilance = 0.8\n",
    "\n",
    "network = ARTNetwork(num_input, rho, vigilance)\n",
    "\n",
    "# Training\n",
    "input_patterns = [\n",
    "    np.array([1, 0, 0, 0, 1]),\n",
    "    np.array([0, 1, 0, 0, 1]),\n",
    "    np.array([0, 0, 1, 0, 1]),\n",
    "]\n",
    "\n",
    "for pattern in input_patterns:\n",
    "    output = network.train(pattern)\n",
    "    print(f\"Trained pattern {pattern} classified as {output}\")\n",
    "\n",
    "# Recall\n",
    "input_pattern = np.array([1, 1, 0, 0, 1])\n",
    "output = network.recall(input_pattern)\n",
    "print(f\"Recalled pattern {input_pattern} classified as {output}\")\n"
   ]
  },
  {
   "cell_type": "code",
   "execution_count": null,
   "id": "98a32e01-ac2e-49da-b676-9f1fa76fa1c4",
   "metadata": {},
   "outputs": [],
   "source": []
  }
 ],
 "metadata": {
  "kernelspec": {
   "display_name": "Python 3 (ipykernel)",
   "language": "python",
   "name": "python3"
  },
  "language_info": {
   "codemirror_mode": {
    "name": "ipython",
    "version": 3
   },
   "file_extension": ".py",
   "mimetype": "text/x-python",
   "name": "python",
   "nbconvert_exporter": "python",
   "pygments_lexer": "ipython3",
   "version": "3.11.7"
  }
 },
 "nbformat": 4,
 "nbformat_minor": 5
}
