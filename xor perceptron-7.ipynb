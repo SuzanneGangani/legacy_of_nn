{
 "cells": [
  {
   "cell_type": "code",
   "execution_count": 4,
   "id": "ba917179-65f2-4529-888e-09618c8e6965",
   "metadata": {},
   "outputs": [
    {
     "name": "stdout",
     "output_type": "stream",
     "text": [
      "[[0]\n",
      " [1]\n",
      " [1]\n",
      " [0]]\n"
     ]
    }
   ],
   "source": [
    "import numpy as np\n",
    "\n",
    "def sigmoid(x):\n",
    "    return 1 / (1 + np.exp(-x))\n",
    "\n",
    "def sigmoid_derivative(x):\n",
    "    return x * (1 - x)\n",
    "\n",
    "X = np.array([[0, 0], [0, 1], [1, 0], [1, 1]])\n",
    "y = np.array([[0], [1], [1], [0]])\n",
    "\n",
    "input_size, hidden_size, output_size = 2, 3, 1\n",
    "np.random.seed(1)\n",
    "weights1, weights2 = np.random.randn(input_size, hidden_size), np.random.randn(hidden_size, output_size)\n",
    "\n",
    "learning_rate, num_iterations = 0.1, 450000\n",
    "\n",
    "for i in range(num_iterations):\n",
    "    hidden_layer_output = sigmoid(np.dot(X, weights1))\n",
    "    predicted_output = sigmoid(np.dot(hidden_layer_output, weights2))\n",
    "    \n",
    "    error = y - predicted_output\n",
    "    d_predicted_output = error * sigmoid_derivative(predicted_output)\n",
    "    \n",
    "    d_hidden_layer = d_predicted_output.dot(weights2.T) * sigmoid_derivative(hidden_layer_output)\n",
    "    \n",
    "    weights2 += hidden_layer_output.T.dot(d_predicted_output) * learning_rate\n",
    "    weights1 += X.T.dot(d_hidden_layer) * learning_rate\n",
    "\n",
    "predicted_output = np.where(predicted_output > 0.20, 1, 0)\n",
    "print(predicted_output)"
   ]
  }
 ],
 "metadata": {
  "kernelspec": {
   "display_name": "Python 3 (ipykernel)",
   "language": "python",
   "name": "python3"
  },
  "language_info": {
   "codemirror_mode": {
    "name": "ipython",
    "version": 3
   },
   "file_extension": ".py",
   "mimetype": "text/x-python",
   "name": "python",
   "nbconvert_exporter": "python",
   "pygments_lexer": "ipython3",
   "version": "3.11.7"
  }
 },
 "nbformat": 4,
 "nbformat_minor": 5
}
